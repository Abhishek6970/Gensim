{
 "cells": [
  {
   "cell_type": "markdown",
   "metadata": {},
   "source": [
    "### Draft 1 for PDF extraction and Word2Vec"
   ]
  },
  {
   "cell_type": "markdown",
   "metadata": {},
   "source": [
    "### **1. Imports**"
   ]
  },
  {
   "cell_type": "code",
   "execution_count": 90,
   "metadata": {},
   "outputs": [],
   "source": [
    "import PyPDF2\n",
    "import warnings\n",
    "warnings.filterwarnings(\"ignore\",category=DeprecationWarning)"
   ]
  },
  {
   "cell_type": "markdown",
   "metadata": {},
   "source": [
    "### **2. Read the document**"
   ]
  },
  {
   "cell_type": "code",
   "execution_count": 95,
   "metadata": {},
   "outputs": [
    {
     "name": "stdin",
     "output_type": "stream",
     "text": [
      "Enter File Location: symmetry-11-01156.pdf\n"
     ]
    }
   ],
   "source": [
    "filename = input('Enter File Location:')"
   ]
  },
  {
   "cell_type": "code",
   "execution_count": 97,
   "metadata": {},
   "outputs": [],
   "source": [
    "open_filename = open(filename, 'rb')\n",
    "\n",
    "pdf_file = PyPDF2.PdfFileReader(open_filename) # Reading PDF File Using PyPDF2 library\n"
   ]
  },
  {
   "cell_type": "code",
   "execution_count": 98,
   "metadata": {},
   "outputs": [
    {
     "data": {
      "text/plain": [
       "{'/Author': 'Zaiwu Mei, Jianwan Ding, Liping Chen, Ting Pi and Zaidao Mei',\n",
       " '/Title': 'Hybrid Multi-Domain Analytical and Data-Driven Modeling for Feed Systems in Machine Tools',\n",
       " '/Subject': 'Position error-compensation control in the servo system of computerized numerical control (CNC) machine tools relies on accurate prediction of dynamic tracking errors of the machine tool feed system. In this paper, in order to accurately predict dynamic tracking errors, a hybrid modeling method is proposed and a dynamic model of the ball screw feed system is developed. Firstly, according to the law of conservation of energy, a complete multi-domain system analytical model of a ball screw feed system was established based on energy flow. In order to overcome the uncertainties of the analytical model, then the data-driven model based on the back propagation (BP) neural network was established and trained using experimental data. Finally, the data-driven model was coupled with the multi-domain analytical model and the hybrid model was developed. The model was verified by experiment at different velocities and the results show that the prediction accuracy of the hybrid model reaches high levels. The hybrid modeling method combines the advantages of analytical modeling and data-driven modeling methods, and can significantly improve the feed system’s modeling accuracy. The research results of this paper are of great significance to improve the compensation control accuracy of CNC machine tools.',\n",
       " '/Creator': 'LaTeX with hyperref package',\n",
       " '/Producer': 'pdfTeX-1.40.19',\n",
       " '/Keywords': 'machine tool; feed system; hybrid modeling; multi-domain; analytical model; data-driven model',\n",
       " '/CreationDate': \"D:20190911182331+08'00'\",\n",
       " '/ModDate': \"D:20190911182331+08'00'\",\n",
       " '/Trapped': '/False',\n",
       " '/PTEX.Fullbanner': 'This is pdfTeX, Version 3.14159265-2.6-1.40.19 (TeX Live 2018/W32TeX) kpathsea version 6.3.0'}"
      ]
     },
     "execution_count": 98,
     "metadata": {},
     "output_type": "execute_result"
    }
   ],
   "source": [
    "pdf_file.getDocumentInfo()"
   ]
  },
  {
   "cell_type": "code",
   "execution_count": 99,
   "metadata": {},
   "outputs": [
    {
     "data": {
      "text/plain": [
       "20"
      ]
     },
     "execution_count": 99,
     "metadata": {},
     "output_type": "execute_result"
    }
   ],
   "source": [
    "total_pages = pdf_file.numPages\n",
    "total_pages"
   ]
  },
  {
   "cell_type": "markdown",
   "metadata": {},
   "source": [
    "\n",
    "Using `textract` package to extract our texts from the document."
   ]
  },
  {
   "cell_type": "code",
   "execution_count": 100,
   "metadata": {},
   "outputs": [],
   "source": [
    "import textract   "
   ]
  },
  {
   "cell_type": "markdown",
   "metadata": {},
   "source": [
    "Loop throug all the pages in the document and extract the text from it "
   ]
  },
  {
   "cell_type": "code",
   "execution_count": 101,
   "metadata": {
    "scrolled": true
   },
   "outputs": [],
   "source": [
    "count = 0\n",
    "text  = ''\n",
    "\n",
    "# Lets loop through, to read each page from the pdf file\n",
    "while(count < total_pages):\n",
    "    # Get the specified number of pages in the document\n",
    "    mani_page  = pdf_file.getPage(count)\n",
    "    # Process the next page\n",
    "    count += 1\n",
    "    # Extract the text from the page\n",
    "    text += mani_page.extractText()\n",
    "   "
   ]
  },
  {
   "cell_type": "markdown",
   "metadata": {},
   "source": [
    "The `if` statement check if our document returned words from the loop above using the `extractText()` function. This is done since `PyPDF2` cannot read scanned documents. "
   ]
  },
  {
   "cell_type": "code",
   "execution_count": 102,
   "metadata": {},
   "outputs": [],
   "source": [
    "if text != '':\n",
    "    text = text\n",
    "    \n",
    "else:\n",
    "    textract.process(open_filename, method='tesseract', encoding='utf-8', langauge='eng' )    "
   ]
  },
  {
   "cell_type": "markdown",
   "metadata": {},
   "source": [
    "If the above returns a false, then run the Optical Character Recognition (OCR) `textract` to convert scanned/image based Pdf files to text. See `textract` online documentaion: [textract](https://textract.readthedocs.io/en/stable/python_package.html)."
   ]
  },
  {
   "cell_type": "code",
   "execution_count": 103,
   "metadata": {},
   "outputs": [
    {
     "name": "stdout",
     "output_type": "stream",
     "text": [
      "Requirement already satisfied: autocorrect in /Users/sneha_abhi/opt/anaconda3/lib/python3.9/site-packages (2.6.1)\n"
     ]
    }
   ],
   "source": [
    "!pip install autocorrect"
   ]
  },
  {
   "cell_type": "code",
   "execution_count": 104,
   "metadata": {},
   "outputs": [
    {
     "name": "stderr",
     "output_type": "stream",
     "text": [
      "[nltk_data] Downloading package punkt to\n",
      "[nltk_data]     /Users/sneha_abhi/nltk_data...\n",
      "[nltk_data]   Package punkt is already up-to-date!\n"
     ]
    },
    {
     "data": {
      "text/plain": [
       "True"
      ]
     },
     "execution_count": 104,
     "metadata": {},
     "output_type": "execute_result"
    }
   ],
   "source": [
    "from autocorrect import Speller\n",
    "from nltk.tokenize import word_tokenize\n",
    "import nltk\n",
    "nltk.download('punkt')"
   ]
  },
  {
   "cell_type": "code",
   "execution_count": 108,
   "metadata": {},
   "outputs": [
    {
     "data": {
      "text/plain": [
       "'symmetrySS\\nArticle\\nHybrid Multi-Domain Analytical and Data-Driven\\nModeling for Feed Systems in Machine Tools\\nZaiwu Mei1, Jianwan Ding1,*, Liping Chen1, Ting Pi1and Zaidao Mei2\\n1School of Mechanical Science and Engineering, Huazhong University of Science and Technology,\\nWuhan 430074, China; zaiwu_mei_hust@outlook.com (Z.M.); chenlp@hust.edu.cn (L.C.);\\npiting@hust.edu.cn (T.P .)\\n2Department of EECS, Syracuse University, Snow City, NY 13244, USA; zmei05@syr.edu\\n*Correspondence: dingjw@hust.edu.cn; Tel.: +86-135-5423-2359\\nReceived: 8 July 2019; Accepted: 9 September 2019; Published: 11 September 2019\\n/gid00030/gid00035/gid00032/gid00030/gid00038/gid00001/gid00033/gid00042/gid00045 /gid00001\\n/gid00048/gid00043/gid00031/gid00028/gid00047/gid00032/gid00046\\nAbstract: Position error-compensation control in the servo system of computerized numerical control\\n(CNC) machine tools relies on accurate prediction of dynamic tracking errors of the machine tool\\nfeed system. In this paper, in order to acc'"
      ]
     },
     "execution_count": 108,
     "metadata": {},
     "output_type": "execute_result"
    }
   ],
   "source": [
    "text[:1000]"
   ]
  },
  {
   "cell_type": "code",
   "execution_count": 109,
   "metadata": {
    "scrolled": true
   },
   "outputs": [
    {
     "name": "stdout",
     "output_type": "stream",
     "text": [
      "symmetryss article hybrid multi-domain analytical and data-driven modeling for feed systems in machine tools zaiwu mei1 , jianwan ding1 , * , liping chen1 , ting pi1and zaidao mei2 1school of mechanical science and engineering , huazhong university of science and technology , wuhan 430074 , china ; zaiwu_mei_hust @ outlook.com ( z.m . ) ; chenlp @ hust.edu.cn ( l.c . ) ; piting @ hust.edu.cn ( t.p . ) 2department of eecs , syracuse university , snow city , ny 13244 , usa ; zmei05 @ syr.edu * correspondence : dingjw @ hust.edu.cn ; tel . : +86-135-5423-2359 received : 8 july 2019 ; accepted : 9 september 2019 ; published : 11 september 2019 /gid00030/gid00035/gid00032/gid00030/gid00038/gid00001/gid00033/gid00042/gid00045 /gid00001 /gid00048/gid00043/gid00031/gid00028/gid00047/gid00032/gid00046 abstract : position error-compensation control in the servo system of computerized numerical control ( cnc ) machine tools relies on accurate prediction of dynamic tracking errors of the machine t\n"
     ]
    }
   ],
   "source": [
    "def to_lower(text):\n",
    "\n",
    "    \"\"\"\n",
    "    Converting text to lower case as in, converting \"Hello\" to  \"hello\" or \"HELLO\" to \"hello\".\n",
    "    \"\"\"\n",
    "    \n",
    "    # Specll check the words\n",
    "    spell  = Speller(lang='en')\n",
    "    \n",
    "    texts = spell(text)\n",
    "    \n",
    "    return ' '.join([w.lower() for w in word_tokenize(text)])\n",
    "\n",
    "lower_case = to_lower(text)\n"
   ]
  },
  {
   "cell_type": "code",
   "execution_count": 111,
   "metadata": {},
   "outputs": [
    {
     "name": "stdout",
     "output_type": "stream",
     "text": [
      "ool feed system . in this paper , in order to accurately predict dynamic tracking errors , a hybrid modeling method is proposed and a dynamic model of the ball screw feed system is developed . firstly , according to the law of conservation of energy , a complete multi-domain system analytical model of a ball screw feed system was established based on energy ﬂow . in order to overcome the uncertainties of the analytical model , then the data-driven model based on the back propagation ( bp ) neural network was established and trained using experimental data . finally , the data-driven model was coupled with the multi-domain analytical model and the hybrid model was developed . the model was veriﬁed by experiment at di erent velocities and the results show that the prediction accuracy of the hybrid model reaches high levels . the hybrid modeling method combines the advantages of analytical modeling and data-driven modeling methods , and can signiﬁcantly improve the feed system ’ s modelin\n"
     ]
    }
   ],
   "source": [
    "print(lower_case[1000:2000])"
   ]
  },
  {
   "cell_type": "code",
   "execution_count": 112,
   "metadata": {},
   "outputs": [],
   "source": [
    "from nltk.corpus import stopwords\n",
    "stopWords = stopwords.words('english')\n",
    "def pre_process(text):\n",
    "    \n",
    "    punctuations = [',','/', '!', '?', ';', ':', '(',')', '[',']', '-', '_', '%', ' , ',' / ', ' ! ', ' ? ', ' ; ', ' : ', ' ( ',' ) ', ' [ ',' ] ', ' - ', ' _ ', ' % ']\n",
    "    \n",
    "    # Remove all the special characters\n",
    "    punctuations = re.sub(r'\\W', '', str(text))\n",
    "    \n",
    "    # convert to lowercase\n",
    "    text = str(text).lower()\n",
    "    \n",
    "    w_num = re.sub('\\w*\\d\\w*', '', text).strip()\n",
    "    \n",
    "    # remove all single characters\n",
    "    text = re.sub(r'\\s+[a-zA-Z]\\s+', ' ', text)\n",
    "    \n",
    "    # Substituting multiple spaces with single space\n",
    "    text = re.sub(r'\\s+', ' ', text, flags=re.I)\n",
    "    \n",
    "    # Substituting multiple . with single .\n",
    "    text = re.sub(r'\\.+', '.', text, flags=re.I)\n",
    "    \n",
    "    # Removing prefixed 'f'\n",
    "    text = re.sub(r'^f\\s+', '', text)\n",
    "    \n",
    "    # Getting rid of all the words that contain numbers in them\n",
    "    w_num = re.sub('\\w*\\d\\w*', '', text).strip()\n",
    "    \n",
    "    # Removing non-english characters\n",
    "    text = re.sub(r'^b\\s+', '', text)\n",
    "    \n",
    "    # remove all special characters and keep only alpha numeric characters and spaces\n",
    "    text = re.sub(r'[^A-Za-z\\s.]',r'',text)\n",
    "    \n",
    "    \n",
    "    #remove new lines\n",
    "    text = re.sub(r'\\n',r' ',text)\n",
    "    \n",
    "    # remove stop words\n",
    "    text = \" \".join([word for word in text.split() if word not in stopWords])\n",
    "    \n",
    "    return text\n",
    "lower_case_1 = pre_process(lower_case)\n"
   ]
  },
  {
   "cell_type": "code",
   "execution_count": 113,
   "metadata": {},
   "outputs": [
    {
     "data": {
      "text/plain": [
       "'r overcome uncertainties analytical model datadriven model based back propagation bp neural network established trained using experimental data . finally datadriven model coupled multidomain analytical model hybrid model developed . model veried experiment di erent velocities results show prediction accuracy hybrid model reaches high levels . hybrid modeling method combines advantages analytical modeling datadriven modeling methods signicantly improve feed system modeling accuracy . research results paper great signicance improve compensation control accuracy cnc machine tools . keywords machine tool feed system hybrid modeling multidomain analytical model datadriven model . introduction feed systems used position machine tool components carrying cutting tool workpiece desired location . one important subsystems computer numerical controlled cnc machine tools positioning accuracy speed determine quality productivity machine tools . feed drive systems either powered linear motors directly rotary motors via ball screw nut . among ball screw feed drive systems widely used cnc machine tools high sti ness reliable operation ability mitigate impact inertial cutting force variations . machining accuracy signicantly depends tracking performance feed systems given trajectory . therefore ball screw exhibit good transient steady tracking performance meet demands high productivity high precision machine tools . improve tracking accuracy ball screw feed system position error compensation control commonly used . tracking error estimated accurately advance control problem feed system eased . therefore model ball screw feed system accurately predicted tracking error essential improve tracking performance . many factors ecting tracking performance feed system nonlinear friction backlash vibration symmetry doi. sym www.mdpi.com journal symmetrysymmetry elastic deformation thermal deformation . factors attracted much attention extensive research numerous papers published . various fri'"
      ]
     },
     "execution_count": 113,
     "metadata": {},
     "output_type": "execute_result"
    }
   ],
   "source": [
    "lower_case_1[1000:3000]"
   ]
  },
  {
   "cell_type": "code",
   "execution_count": 114,
   "metadata": {},
   "outputs": [],
   "source": [
    "#building list of list to feed into gensim models\n",
    "corpus = []\n",
    "for line in lower_case_1.split('.'):\n",
    "    words = [x for x in line.split()]\n",
    "    corpus.append(words)\n"
   ]
  },
  {
   "cell_type": "code",
   "execution_count": 115,
   "metadata": {},
   "outputs": [
    {
     "name": "stdout",
     "output_type": "stream",
     "text": [
      "[['mach'], ['tools', 'manuf'], [], ['crossref'], ['whalley', 'r'], ['abdulameer', 'a'], ['a'], ['ebrahimi', 'm'], ['machine', 'tool', 'modelling', 'prole', 'following', 'performance'], ['appl'], ['math'], ['model'], [], ['crossref'], ['zaeh', 'm'], ['f'], ['oertli', 't'], ['milberg', 'j'], ['finite', 'element', 'modelling', 'ball', 'screw', 'feed', 'drive', 'systems'], ['cirp', 'ann'], ['manuf'], ['technol'], [], ['crossref'], ['yang', 'x'], ['electromechanical', 'integrated', 'modeling', 'analysis', 'directdriven', 'feed', 'system', 'machine', 'tools'], ['int'], ['j'], ['adv'], ['manuf'], ['technol'], [], ['crossref'], ['zhang'], ['integrated', 'modeling', 'analysis', 'ball', 'screw', 'feed', 'system', 'milling', 'process', 'consideration', 'multiexcitation', 'ect'], ['mech'], ['syst'], ['signal', 'process'], [], ['crossref'], ['maj', 'r'], ['bianchi', 'g'], ['mechatronic', 'analysis', 'machine', 'tools'], ['proceedings', 'th', 'samtech', 'users', 'conference', 'paris', 'france', 'february', 'pp'], [], [], ['ansoategui', 'i'], ['campa', 'f'], ['j'], ['mechatronics', 'ball', 'screw', 'drive', 'using', 'degrees', 'freedom', 'dynamic', 'model'], ['int'], ['j'], ['adv'], ['manuf'], ['technol'], [], ['crossref'], ['kim', 'm'], ['s'], ['chung', 's'], ['c'], ['systematic', 'approach', 'design', 'highperformance', 'feed', 'drive', 'systems'], ['int'], ['j'], ['mach'], ['tools', 'manuf'], [], ['crossref'], ['herfs', 'w'], ['design', 'feed', 'drives', 'objectoriented', 'behavior', 'models'], ['ifacpapersonline'], ['crossref'], ['luo', 'w'], ['digital', 'twin', 'cnc', 'machine', 'tool', 'modeling', 'using', 'strategy'], ['j'], ['ambient', 'intell'], ['humaniz'], ['comput'], [], ['crossref'], ['zdemir', 'd'], ['modelica', 'library', 'feed', 'drive', 'systems'], ['proceedings', 'th', 'international', 'modelica', 'conference', 'versailles', 'france', 'september', 'linkping', 'university', 'electronic', 'press', 'linkping', 'sweden', 'pp'], [], [], ['jordan', 'm'], ['i'], ['mitchell', 't'], ['m'], ['machine', 'learning', 'trends', 'perspectives', 'prospects'], ['science'], ['crossref'], ['wuest', 't'], ['weimer', 'd'], ['irgens', 'c'], ['machine', 'learning', 'manufacturing', 'advantages', 'challenges', 'applications'], ['prod'], ['manuf'], ['res'], [], ['crossref'], ['li', 'z'], ['wang', 'y'], ['wang', 'k'], ['datadriven', 'method', 'based', 'deep', 'belief', 'networks', 'backlash', 'error', 'prediction', 'machining', 'centers'], ['j'], ['intell'], ['manuf'], [], ['crossref'], ['chiu', 'h'], ['w'], ['lee', 'c'], ['h'], ['prediction', 'machining', 'accuracy', 'surface', 'quality', 'cnc', 'machine', 'tools', 'using', 'data', 'driven', 'approach'], ['adv'], ['eng'], ['softw'], [], ['crossref', 'symmetry'], ['park', 'j'], ['law', 'k'], ['h'], ['bhinge', 'r'], ['generalized', 'datadriven', 'energy', 'prediction', 'model', 'uncertainty', 'milling', 'machine', 'tool', 'using', 'gaussian', 'process'], ['proceedings', 'asme', 'international', 'manufacturing', 'science', 'engineering', 'conference', 'charlotte', 'nc', 'usa', 'june'], [], ['ziegert', 'j'], ['c'], ['kalle'], ['error', 'compensation', 'machine', 'tools', 'neural', 'network', 'approach'], ['j'], ['intell'], ['manuf'], [], ['crossref'], ['ak', 'r'], ['helu', 'm'], ['m'], ['rachuri', 's'], ['ensemble', 'neural', 'network', 'model', 'predicting', 'energy', 'consumption', 'milling', 'machine'], ['proceedings', 'asme', 'international', 'design', 'engineering', 'technical', 'conferences', 'computers', 'information', 'engineering', 'conference', 'boston', 'usa', 'august'], [], ['yan', 'j'], ['lee', 'j'], ['degradation', 'assessment', 'fault', 'modes', 'classication', 'using', 'logistic', 'regression'], ['j'], ['manuf'], ['sci'], ['eng'], [], ['crossref'], ['carbonneau', 'r'], ['laframboise', 'k'], ['vahidov', 'r'], ['application', 'machine', 'learning', 'techniques', 'supply', 'chain', 'demand', 'forecasting'], ['eur'], ['j'], ['oper'], ['res'], [], ['crossref'], ['hou', 'z'], ['gao', 'h'], ['lewis', 'f'], ['l'], ['datadriven', 'control', 'learning', 'systems'], ['ieee', 'trans'], ['ind'], ['electron'], [], ['crossref'], ['park', 'j'], ['ferguson', 'm'], ['law', 'k'], ['h'], ['data', 'driven', 'analytics', 'machine', 'learning', 'system', 'characterization', 'diagnostics', 'control', 'optimization', 'workshop', 'european', 'group', 'intelligent', 'computing', 'engineering', 'springer', 'cham', 'switzerland', 'pp'], [], [], ['reinhart', 'r'], ['shareef', 'z'], ['steil'], ['hybrid', 'analytical', 'datadriven', 'modeling', 'feedforward', 'robot', 'control'], ['sensors'], ['crossref'], ['reinhart', 'r'], ['f'], ['steil', 'j'], ['j'], ['hybrid', 'mechanical', 'datadriven', 'modeling', 'improves', 'inverse', 'kinematic', 'control', 'soft', 'robot'], ['procedia', 'technol'], [], ['crossref'], ['chikh', 'k'], ['saad', 'a'], ['khafallah', 'm'], ['pmsm', 'vector', 'control', 'performance', 'improvement', 'using', 'pulse', 'modulation', 'antiwindup', 'pi', 'controller'], ['proceedings', 'international', 'conference', 'multimedia', 'computing', 'systems', 'ouarzazate', 'morocco', 'april', 'pp'], [], [], ['sebastian', 't'], ['slemon', 'g'], ['r'], ['transient', 'modeling', 'performance', 'variablespeed', 'permanentmagnet', 'motors'], ['ieee', 'trans'], ['ind'], ['appl'], [], ['crossref'], ['tu', 'x'], ['zhou', 'y'], ['f'], ['zhao'], ['modeling', 'static', 'friction', 'robot', 'joint', 'genetically', 'optimized', 'bp', 'neural', 'network'], ['j'], ['intell'], ['robot'], ['syst'], [], ['crossref', 'authors'], ['licensee', 'mdpi', 'basel', 'switzerland'], ['article', 'open', 'access', 'article', 'distributed', 'terms', 'conditions', 'creative', 'commons', 'attribution', 'cc', 'license', 'http', 'creativecommons'], ['org', 'licenses', 'by'], [], []]\n"
     ]
    }
   ],
   "source": [
    "print(corpus[1000:3000])"
   ]
  },
  {
   "cell_type": "code",
   "execution_count": 116,
   "metadata": {},
   "outputs": [],
   "source": [
    "from gensim.models import Word2Vec\n",
    "from gensim.models import Phrases\n",
    "from gensim.models.phrases import Phraser"
   ]
  },
  {
   "cell_type": "code",
   "execution_count": 117,
   "metadata": {},
   "outputs": [],
   "source": [
    "#Bigram Hyperparameters\n",
    "min_count_bi = 25\n",
    "threshold_bi = 50"
   ]
  },
  {
   "cell_type": "code",
   "execution_count": 118,
   "metadata": {},
   "outputs": [],
   "source": [
    "phrases = Phrases(sentences=corpus,min_count=min_count_bi,threshold=threshold_bi)\n",
    "bigram = Phraser(phrases)\n",
    "\n",
    "for index,sentence in enumerate(corpus):\n",
    "    corpus[index] = bigram[sentence]"
   ]
  },
  {
   "cell_type": "code",
   "execution_count": 119,
   "metadata": {},
   "outputs": [],
   "source": [
    "#Word2Vec Hyperparameters\n",
    "size = 100\n",
    "window_size = 2\n",
    "epochs = 100\n",
    "min_count = 2\n",
    "workers = 4\n",
    "sg = 1"
   ]
  },
  {
   "cell_type": "code",
   "execution_count": 120,
   "metadata": {},
   "outputs": [],
   "source": [
    "model = Word2Vec(corpus,sg=1,window=window_size,vector_size=100, min_count=min_count,workers=workers,epochs=epochs)"
   ]
  },
  {
   "cell_type": "code",
   "execution_count": 121,
   "metadata": {},
   "outputs": [],
   "source": [
    "model.save('word2vec.model')"
   ]
  },
  {
   "cell_type": "code",
   "execution_count": 122,
   "metadata": {},
   "outputs": [],
   "source": [
    "model = Word2Vec.load('word2vec.model')\n"
   ]
  },
  {
   "cell_type": "code",
   "execution_count": 123,
   "metadata": {},
   "outputs": [
    {
     "data": {
      "text/plain": [
       "[('articial', 0.8872115015983582),\n",
       " ('agation', 0.8848422765731812),\n",
       " ('propagation', 0.8635153770446777),\n",
       " ('prop', 0.8203909397125244),\n",
       " ('belief', 0.7935677766799927),\n",
       " ('consumption', 0.7869191765785217),\n",
       " ('back', 0.778603196144104),\n",
       " ('network', 0.7665266990661621),\n",
       " ('deep', 0.7658460736274719),\n",
       " ('simple', 0.7548826336860657)]"
      ]
     },
     "execution_count": 123,
     "metadata": {},
     "output_type": "execute_result"
    }
   ],
   "source": [
    "model.wv.most_similar('neural')"
   ]
  },
  {
   "cell_type": "code",
   "execution_count": 124,
   "metadata": {},
   "outputs": [
    {
     "data": {
      "text/plain": [
       "['model',\n",
       " 'system',\n",
       " 'feed',\n",
       " 'screw',\n",
       " 'ball',\n",
       " 'analytical',\n",
       " 'hybrid',\n",
       " 'figure',\n",
       " 'modeling',\n",
       " 'control',\n",
       " 'datadriven',\n",
       " 'error',\n",
       " 'shown',\n",
       " 'motor',\n",
       " 'mechanical',\n",
       " 'models',\n",
       " 'multidomain',\n",
       " 'connection',\n",
       " 'component',\n",
       " 'paper',\n",
       " 'output',\n",
       " 'method',\n",
       " 'table',\n",
       " 'established',\n",
       " 'results',\n",
       " 'variable',\n",
       " 'predicted',\n",
       " 'based',\n",
       " 'crossref',\n",
       " 'position',\n",
       " 'machine',\n",
       " 'symmetry',\n",
       " 'variables',\n",
       " 'data',\n",
       " 'displacement',\n",
       " 'tracking',\n",
       " 'domain',\n",
       " 'input',\n",
       " 'accuracy',\n",
       " 'j',\n",
       " 'measured',\n",
       " 'magnet',\n",
       " 'simulation',\n",
       " 'systems',\n",
       " 'servo',\n",
       " 'permanent',\n",
       " 'torque',\n",
       " 'coupling',\n",
       " 'pmsm',\n",
       " 'potential',\n",
       " 'used',\n",
       " 'backlash',\n",
       " 'causal',\n",
       " 'command',\n",
       " 'equation',\n",
       " 'module',\n",
       " 'prediction',\n",
       " 'driven',\n",
       " 'pure',\n",
       " 'synchronous',\n",
       " 'interface',\n",
       " 'm',\n",
       " 'current',\n",
       " 'flow',\n",
       " 'parameters',\n",
       " 'f',\n",
       " 'signal',\n",
       " 'network',\n",
       " 'layer',\n",
       " 'experiment',\n",
       " 'working',\n",
       " 'electrical',\n",
       " 'subsystem',\n",
       " 'c',\n",
       " 'drive',\n",
       " 'integrated',\n",
       " 'follows',\n",
       " 'stiffness',\n",
       " 'equivalent',\n",
       " 'circle',\n",
       " 'using',\n",
       " 'defined',\n",
       " 'shaft',\n",
       " 'bpnn',\n",
       " 'structure',\n",
       " 'contour',\n",
       " 'axis',\n",
       " 'noncausal',\n",
       " 'vector',\n",
       " 'tools',\n",
       " 'analysis',\n",
       " 'connectors',\n",
       " 'review',\n",
       " 'peer',\n",
       " 'according',\n",
       " 'voltage',\n",
       " 'sti',\n",
       " 'loop',\n",
       " 'connector',\n",
       " 'order']"
      ]
     },
     "execution_count": 124,
     "metadata": {},
     "output_type": "execute_result"
    }
   ],
   "source": [
    "model.wv.index_to_key[:100]"
   ]
  },
  {
   "cell_type": "code",
   "execution_count": null,
   "metadata": {},
   "outputs": [],
   "source": []
  }
 ],
 "metadata": {
  "kernelspec": {
   "display_name": "Python 3 (ipykernel)",
   "language": "python",
   "name": "python3"
  },
  "language_info": {
   "codemirror_mode": {
    "name": "ipython",
    "version": 3
   },
   "file_extension": ".py",
   "mimetype": "text/x-python",
   "name": "python",
   "nbconvert_exporter": "python",
   "pygments_lexer": "ipython3",
   "version": "3.9.7"
  }
 },
 "nbformat": 4,
 "nbformat_minor": 4
}
