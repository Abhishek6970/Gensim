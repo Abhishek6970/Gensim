{
 "cells": [
  {
   "cell_type": "code",
   "execution_count": 1,
   "id": "6e5a0f9b-6992-4d0f-8b0e-e1b0075b7f10",
   "metadata": {},
   "outputs": [
    {
     "name": "stdout",
     "output_type": "stream",
     "text": [
      "Collecting pymupdf\n",
      "  Downloading PyMuPDF-1.21.0-cp39-cp39-macosx_10_9_x86_64.whl (12.7 MB)\n",
      "\u001b[K     |████████████████████████████████| 12.7 MB 1.0 MB/s eta 0:00:01\n",
      "\u001b[?25hInstalling collected packages: pymupdf\n",
      "Successfully installed pymupdf-1.21.0\n"
     ]
    }
   ],
   "source": [
    "! pip install pymupdf"
   ]
  },
  {
   "cell_type": "code",
   "execution_count": 2,
   "id": "c00a6bef-9371-4d07-90d6-91b6f48b2170",
   "metadata": {},
   "outputs": [],
   "source": [
    "DIGITIZED_FILE = \"symmetry-11-01156.pdf\"\n"
   ]
  },
  {
   "cell_type": "code",
   "execution_count": 5,
   "id": "e60d1087-cee1-43b7-8921-d23076a20a3c",
   "metadata": {},
   "outputs": [],
   "source": [
    "import fitz"
   ]
  },
  {
   "cell_type": "code",
   "execution_count": 55,
   "id": "c4b8cb93-d9eb-4b13-8a27-059a660b2fe9",
   "metadata": {},
   "outputs": [
    {
     "name": "stdout",
     "output_type": "stream",
     "text": [
      "<_io.TextIOWrapper name='readme.txt' mode='w' encoding='UTF-8'>\n",
      "['symmetry\\nS\\nS\\nArticle\\nHybrid Multi-Domain Analytical and Data-Driven\\nModeling for Feed Systems in Machine Tools\\nZaiwu Mei 1, Jianwan Ding 1,*, Liping Chen 1, Ting Pi 1 and Zaidao Mei 2\\n1\\nSchool of Mechanical Science and Engineering, Huazhong University of Science and Technology,\\nWuhan 430074, China; zaiwu_mei_hust@outlook.com (Z.M.); chenlp@hust.edu.cn (L.C.);\\npiting@hust.edu.cn (T.P.)\\n2\\nDepartment of EECS, Syracuse University, Snow City, NY 13244, USA; zmei05@syr.edu\\n*\\nCorrespondence: dingjw@hust.edu.cn; Tel.: +86-135-5423-2359\\nReceived: 8 July 2019; Accepted: 9 September 2019; Published: 11 September 2019\\n����������\\n�������\\nAbstract: Position error-compensation control in the servo system of computerized numerical control\\n(CNC) machine tools relies on accurate prediction of dynamic tracking errors of the machine tool\\nfeed system. In this paper, in order to accurately predict dynamic tracking errors, a hybrid modeling\\nmethod is proposed and a dynamic model of the ball screw feed system is developed. Firstly,\\naccording to the law of conservation of energy, a complete multi-domain system analytical model of a\\nball screw feed system was established based on energy ﬂow. In order to overcome the uncertainties\\nof the analytical model, then the data-driven model based on the back propagation (BP) neural\\nnetwork was established and trained using experimental data. Finally, the data-driven model was\\ncoupled with the multi-domain analytical model and the hybrid model was developed. The model\\nwas veriﬁed by experiment at diﬀerent velocities and the results show that the prediction accuracy\\nof the hybrid model reaches high levels. The hybrid modeling method combines the advantages\\nof analytical modeling and data-driven modeling methods, and can signiﬁcantly improve the feed\\nsystem’s modeling accuracy. The research results of this paper are of great signiﬁcance to improve\\nthe compensation control accuracy of CNC machine tools.\\nKeywords:\\nmachine tool; feed system; hybrid modeling; multi-domain; analytical model;\\ndata-driven model\\n1. Introduction\\nFeed systems are used to position the machine tool components carrying the cutting tool and\\nworkpiece to the desired location [1]. They are one of the most important subsystems of computer\\nnumerical controlled (CNC) machine tools, as their positioning accuracy and speed determine the\\nquality and productivity of machine tools [2]. Feed drive systems are either powered by linear motors\\ndirectly, or by rotary motors via a ball screw and nut. Among them, ball screw feed drive systems are\\nwidely used in CNC machine tools for their high stiﬀness, reliable operation and ability to mitigate\\nthe impact of inertial and cutting force variations [3,4]. Machining accuracy signiﬁcantly depends on\\nthe tracking performance of the feed systems for a given trajectory. Therefore, the ball screw should\\nexhibit good transient and steady tracking performance to meet the demands of high productivity and\\nhigh precision of machine tools [5,6].\\nTo improve the tracking accuracy of the ball screw feed system, position error compensation\\ncontrol is commonly used. If the tracking error can be estimated accurately in advance, the control\\nproblem of the feed system can be eased. Therefore, a model of the ball screw feed system that can\\naccurately predicted tracking error is essential to improve tracking performance. There are many factors\\naﬀecting the tracking performance of the feed system, such as nonlinear friction, backlash, vibration,\\nSymmetry 2019, 11, 1156; doi:10.3390/sym11091156\\nwww.mdpi.com/journal/symmetry\\n', 'Symmetry 2019, 11, 1156\\n2 of 20\\nelastic deformation, thermal deformation and so on. These factors have attracted much attention\\nand extensive research, and numerous papers have been published. Various friction models were\\nresearched in [7–11], such as stick-slip, static friction, Stribeck eﬀects, and so on. Three kinds of backlash\\nmodels, which are the hysteresis model [12], dead zone model [13] and vibration-impact model [14],\\ncan be found in previous studies. Another issue is the vibration; vibrations caused by the resonance of\\nthe feed drive were discussed and suppressed by using either the simpliﬁed model [15] or the complex\\nmodel [16]. Some other studies have concentrated on the elastic deformation [17,18] and thermal\\ndeformation [19] of the ball screw feed systems. Most studies have used lumped-parameters models to\\nanalyze the ball screw feed systems. In order to overcome the shortcomings of lumped-parameters\\nmodels, the investigation of hybrid, distributed-lumped parameter modeling methods for ball screw\\nfeed drive systems was conducted in earlier studies [20–22]. Besides, the ﬁnite element method (FEM)\\nis also a common approach to model the ball-screw system. In [23], the FEM model was integrated\\nwith the servo dynamics to evaluate the dynamics response of the transmission system. The studies\\nmentioned above have made signiﬁcant contributions to improving the performance of the ball screw\\nfeed systems, but the theoretical analysis of the dynamic tracking performance of ball screw is very\\ncomplicated; the inﬂuencing factors are so many so that it is diﬃcult to further improve the prediction\\naccuracy of tracking error based on theoretical analysis. What’s more, most studies have mainly\\nconcentrated on the modeling of the mechanical part, the coupling eﬀects between diﬀerent domains\\nhave not been considered.\\nThe feed systems consist of multi-domain subsystems such as the mechanical transmission\\nsubsystem, electrical subsystem, control subsystem, and so on. These subsystems belong to diﬀerent\\ndisciplines and there are complex coupling relationship among them. The performance of the feed\\nsystem depends not only on the performance of the subsystems in each domain, but also on the\\ninteraction between them. In fact, the tracking errors of the ball screw feed system are mainly composed\\nof two parts: the error caused by the servo control subsystem and the error caused by the mechanical\\nsubsystem. Therefore, a multi-domain integrated system model is essential to accurately predict the\\ntracking performance. Research on multi-domain integrated modeling of ball screw feed systems has\\nbeen rare so far. Some integrated modeling methods for feed systems in machine tools have been\\nproposed [24–28]. In the references, the multi-domain coupling characteristics of a feed system were\\ntaken into account, but the modeling eﬃciency was low and it was hard to achieve real seamless\\nintegration due to use of the modeling method based on signal ﬂow. Some attempts have been made\\nto use the non-causal modeling method based on Modelica to establish the model of feed system,\\nbut the model was not strictly in accordance with the actual system and the model was not validated by\\nexperiment [29–31]. The deﬁciencies of existing research into integrated modeling of a feed system are\\nthat the parameters of the integrated model are too many, so they are diﬃcult to determine accurately,\\nmeaning the accuracy of the model is limited.\\nAccording to previous research, the feed system model is usually derived from expert domain\\nknowledge (e.g., basic physical principles). This modeling approach is called analytical modeling,\\nalso known as knowledge-driven, physics-based, or mechanism modeling. However, for complicated\\nmulti-domain systems such as feed systems, it is often too complex to derive their analytical model\\nand to fully capture their dynamics. Additionally, the parameters may be time-varying or unknown,\\nwhich limit the feed system’s modeling accuracy. The feed system model can also be established by\\nmachine learning techniques, which is called the data-driven modeling method. Machine learning is\\none of today’s most rapidly growing technical ﬁelds [32]; there has been growing interest in applying\\nmachine learning to draw insights gained from the data in engineering [33]. Data-driven analytics\\ntechniques have been applied for prediction [34–37], detection and classiﬁcation [38,39], forecasting [40],\\ncontrol [41,42], and many problems of speciﬁc interest. For example, Zhe Li et al. [34] proposed a\\ndata-driven method for backlash error predication through the deep belief network (DBN). John C.\\nZiegert et al. [37] used an artiﬁcial neural network (ANN) to predict tool point positioning error in\\nmachine tools. Ronay Ak et al. [38] proposed a prediction model based on a neural network for\\n']\n"
     ]
    }
   ],
   "source": [
    "ls = []\n",
    "with open('readme.txt', 'w') as f:\n",
    "    with fitz.open(DIGITIZED_FILE) as doc:\n",
    "        for page in doc:\n",
    "            text = page.get_text()\n",
    "            f.write(text)\n",
    "            ls.append(text)\n",
    "#        print(text)\n",
    "        \n",
    "print(f)\n",
    "print(ls[:2])"
   ]
  },
  {
   "cell_type": "code",
   "execution_count": 7,
   "id": "5b6a2b64-f0e6-41c4-a234-589a7a033fda",
   "metadata": {},
   "outputs": [
    {
     "name": "stdout",
     "output_type": "stream",
     "text": [
      "Collecting clean-text\n",
      "  Downloading clean_text-0.6.0-py3-none-any.whl (11 kB)\n",
      "Collecting ftfy<7.0,>=6.0\n",
      "  Downloading ftfy-6.1.1-py3-none-any.whl (53 kB)\n",
      "\u001b[K     |████████████████████████████████| 53 kB 2.9 MB/s eta 0:00:011\n",
      "\u001b[?25hCollecting emoji<2.0.0,>=1.0.0\n",
      "  Downloading emoji-1.7.0.tar.gz (175 kB)\n",
      "\u001b[K     |████████████████████████████████| 175 kB 3.8 MB/s eta 0:00:01\n",
      "\u001b[?25hRequirement already satisfied: wcwidth>=0.2.5 in /Users/sneha_abhi/opt/anaconda3/lib/python3.9/site-packages (from ftfy<7.0,>=6.0->clean-text) (0.2.5)\n",
      "Building wheels for collected packages: emoji\n",
      "  Building wheel for emoji (setup.py) ... \u001b[?25ldone\n",
      "\u001b[?25h  Created wheel for emoji: filename=emoji-1.7.0-py3-none-any.whl size=171047 sha256=0262cb764c0cc319a2d012a3de588da852780ffdac80be0f9fe0fad939f7e5c1\n",
      "  Stored in directory: /Users/sneha_abhi/Library/Caches/pip/wheels/fa/7a/e9/22dd0515e1bad255e51663ee513a2fa839c95934c5fc301090\n",
      "Successfully built emoji\n",
      "Installing collected packages: ftfy, emoji, clean-text\n",
      "Successfully installed clean-text-0.6.0 emoji-1.7.0 ftfy-6.1.1\n"
     ]
    }
   ],
   "source": [
    "! pip install clean-text"
   ]
  },
  {
   "cell_type": "code",
   "execution_count": 56,
   "id": "a3cfa51d-8f05-4f06-a0e6-00fd44f41cba",
   "metadata": {},
   "outputs": [],
   "source": [
    "from cleantext import clean"
   ]
  },
  {
   "cell_type": "code",
   "execution_count": 57,
   "id": "931cd969-67c8-46ba-aed8-1c7010ab43bd",
   "metadata": {},
   "outputs": [],
   "source": [
    "ls_clean = clean(ls,\n",
    "    fix_unicode=True,               # fix various unicode errors\n",
    "    to_ascii=True,                  # transliterate to closest ASCII representation\n",
    "    lower=True,                     # lowercase text\n",
    "    no_line_breaks=True,           # fully strip line breaks as opposed to only normalizing them\n",
    "    no_urls=True,                  # replace all URLs with a special token\n",
    "    no_emails=True,                # replace all email addresses with a special token\n",
    "    no_phone_numbers=True,         # replace all phone numbers with a special token\n",
    "    no_numbers=True,               # replace all numbers with a special token\n",
    "    no_digits=True,                # replace all digits with a special token\n",
    "    no_currency_symbols=True,      # replace all currency symbols with a special token\n",
    "    no_punct=False,                 # remove punctuations\n",
    "    replace_with_punct=\"\",          # instead of removing punctuations you may replace them\n",
    "    replace_with_url=\"\",\n",
    "    replace_with_email=\"\",\n",
    "    replace_with_phone_number=\"\",\n",
    "    replace_with_number=\"\",\n",
    "    replace_with_digit=\"\",\n",
    "    replace_with_currency_symbol=\"<CUR>\",\n",
    "    lang=\"en\")"
   ]
  },
  {
   "cell_type": "code",
   "execution_count": null,
   "id": "12182418-fcf1-4002-85c5-0aa63cc61b1f",
   "metadata": {},
   "outputs": [],
   "source": []
  },
  {
   "cell_type": "code",
   "execution_count": 86,
   "id": "88b04b81-afb3-471d-acc3-2599cc49bd08",
   "metadata": {},
   "outputs": [
    {
     "name": "stdout",
     "output_type": "stream",
     "text": [
      "  symmetry s s article hybrid multi domain analytical and data driven modeling for feed systems in machine tools zaiwu mei   jianwan ding     liping chen   ting pi and zaidao mei school of mechanical science and engineering  huazhong university of science and technology  wuhan   china   z m     l c     t p   department of eecs  syracuse university  snow city  ny   usa    correspondence  tel   received  july   accepted  september   published  september abstract  position error compensation control in the servo system of computerized numerical control  cnc  machine tools relies on accurate prediction of dynamic tracking errors of the machine tool feed system  in this paper  in order to accurately predict dynamic tracking errors  a hybrid modeling method is proposed and a dynamic model of the ball screw feed system is developed  firstly  according to the law of conservation of energy  a complete multi domain system analytical model of a ball screw feed system was established based on energy flow  in order to overcome the uncertainties of the analytical model  then the data driven model based on the back propagation  bp  neural network was established and trained using experimental data  finally  the data driven model was coupled with the multi domain analytical model and the hybrid model was developed  the model was verified by experiment at different velocities and the results show that the prediction accuracy of the hybrid model reaches high levels  the hybrid modeling method combines the advantages of analytical modeling and data driven modeling methods  and can significantly improve the feed system s modeling accuracy  the research results of this paper are of great significance to improve the compensation control accuracy of cnc machine tools  keywords  machine tool  feed system  hybrid modeling  multi domain  analytical model  data driven model   introduction feed systems are used to position the machine tool components carrying the cutting tool and workpiece to the desired location     they are one of the most important subsystems of computer numerical controlled  cnc  machine tools  as their positioning accuracy and speed determine the quality and productivity of machine tools     feed drive systems are either powered by linear motors directly  or by rotary motors via a ball screw and nut  among them  ball screw feed drive systems are widely used in cnc machine tools for their high stiffness  reliable operation and ability to mitigate the impact of inertial and cutting force variations     machining accuracy significantly depends on the tracking performance of the feed systems for a given trajectory  therefore  the ball screw should exhibit good transient and steady tracking performance to meet the demands of high productivity and high precision of machine tools     to improve the tracking accuracy of the ball screw feed system  position error compensation control is commonly used  if the tracking error can be estimated accurately in advance  the control problem of the feed system can be eased  therefore  a model of the ball screw feed system that can accurately predicted tracking error is essential to improve tracking performance  there are many factors affecting the tracking performance of the feed system  such as nonlinear friction  backlash  vibration  symmetry       doi  sym     symmetry     of elastic deformation  thermal deformation and so on  these factors have attracted much attention and extensive research  and numerous papers have been published  various friction models were researched in      such as stick slip  static friction  stribeck effects  and so on  three kinds of backlash models  which are the hysteresis model     dead zone model    and vibration impact model     can be found in previous studies  another issue is the vibration  vibrations caused by the resonance of the feed drive were discussed and suppressed by using either the simplified model    or the complex model     some other studies have concentrated on the elastic deformation    and thermal deformation    of the ball screw feed systems  most studies have used lumped parameters models to analyze the ball screw feed systems  in order to overcome the shortcomings of lumped parameters models  the investigation of hybrid  distributed lumped parameter modeling methods for ball screw feed drive systems was conducted in earlier studies      besides  the finite element method  fem  is also a common approach to model the ball screw system  in     the fem model was integrated with the servo dynamics to evaluate the dynamics response of the transmission system  the studies mentioned above have made significant contributions to improving the performance of the ball screw feed systems  but the theoretical analysis of the dynamic tracking performance of ball screw is very complicated  the influencing factors are so many so that it is difficult to further improve the prediction accuracy of tracking error based on theoretical analysis  wh\n"
     ]
    }
   ],
   "source": [
    "import re\n",
    "from nltk.corpus import stopwords\n",
    "stopWords = stopwords.words('english')\n",
    "def pre_process(text):\n",
    "    \n",
    "    punctuations = ['*',',','/', '!', '?', ';', ':', '(',')', '[',']', '%', ' , ',' / ', ' ! ', ' ? ', ' ; ', ' : ', ' ( ',' ) ', ' [ ',' ] ', ' % ']\n",
    "    \n",
    "    #Remove all the special characters\n",
    "    punctuations = re.sub(r'\\W',' ', str(text))\n",
    "    print(punctuations[:5000])\n",
    "    w_num = re.sub('\\w*\\d\\w*', '', text).strip()\n",
    "    \n",
    "    # remove all single characters\n",
    "    text = re.sub(r'\\s+[a-zA-Z]\\s+', ' ', text)\n",
    "   \n",
    "    # Substituting multiple spaces with single space\n",
    "    text = re.sub(r'\\s+', ' ', text, flags=re.I)\n",
    "    # Substituting multiple . with single .\n",
    "    text = re.sub(r'\\.+', '.', text, flags=re.I)\n",
    "    \n",
    "    # Removing prefixed 'f'\n",
    "    text = re.sub(r'^f\\s+', '', text)\n",
    "    \n",
    "    \n",
    "    # Getting rid of all the words that contain numbers in them\n",
    "    w_num = re.sub('\\w*\\d\\w*', '', text).strip()\n",
    "    \n",
    "    # Removing non-english characters\n",
    "    text = re.sub(r'^b\\s+', '', text)\n",
    "        \n",
    "    # remove all special characters and keep only alpha numeric characters and spaces\n",
    "    #text = re.sub(r'[^A-Za-z\\s.]',r'',text)\n",
    "    #print(text[:5000])\n",
    "    \n",
    "    \n",
    "    #remove new lines\n",
    "    text = re.sub(r'\\n',r' ',text)\n",
    "    \n",
    "    # remove stop words\n",
    "    text = \" \".join([word for word in text.split() if word not in stopWords])\n",
    "    \n",
    "    return text\n",
    "lower_case_1 = pre_process(ls_clean)"
   ]
  },
  {
   "cell_type": "code",
   "execution_count": 80,
   "id": "3a45ff40-9592-4582-85c2-09d0de917bea",
   "metadata": {},
   "outputs": [
    {
     "data": {
      "text/plain": [
       "\"['symmetry s s article hybrid multi-domain analytical and data-driven modeling for feed systems in machine tools zaiwu mei , jianwan ding ,*, liping chen , ting pi and zaidao mei school of mechanical science and engineering, huazhong university of science and technology, wuhan , china; (z.m.); (l.c.); (t.p.) department of eecs, syracuse university, snow city, ny , usa; * correspondence: tel.: received: july ; accepted: september ; published: september abstract: position error-compensation control in the servo system of computerized numerical control (cnc) machine tools relies on accurate prediction of dynamic tracking errors of the machine tool feed system. in this paper, in order to accurately predict dynamic tracking errors, a hybrid modeling method is proposed and a dynamic model of the ball screw feed system is developed. firstly, according to the law of conservation of energy, a complete multi-domain system analytical model of a ball screw feed system was established based on energy flow. in order to overcome the uncertainties of the analytical model, then the data-driven model based on the back propagation (bp) neural network was established and trained using experimental data. finally, the data-driven model was coupled with the multi-domain analytical model and the hybrid model was developed. the model was verified by experiment at different velocities and the results show that the prediction accuracy of the hybrid model reaches high levels. the hybrid modeling method combines the advantages of analytical modeling and data-driven modeling methods, and can significantly improve the feed system's modeling accuracy. the research results of this paper are of great significance to improve the compensation control accuracy of cnc machine tools. keywords: machine tool; feed system; hybrid modeling; multi-domain; analytical model; data-driven model . introduction feed systems are used to position the machine tool components carrying the cutting tool and workpiece to the desired location []. they are one of the most important subsystems of computer numerical controlled (cnc) machine tools, as their positioning accuracy and speed determine the quality and productivity of machine tools []. feed drive systems are either powered by linear motors directly, or by rotary motors via a ball screw and nut. among them, ball screw feed drive systems are widely used in cnc machine tools for their high stiffness, reliable operation and ability to mitigate the impact of inertial and cutting force variations []. machining accuracy significantly depends on the tracking performance of the feed systems for a given trajectory. therefore, the ball screw should exhibit good transient and steady tracking performance to meet the demands of high productivity and high precision of machine tools []. to improve the tracking accuracy of the ball screw feed system, position error compensation control is commonly used. if the tracking error can be estimated accurately in advance, the control problem of the feed system can be eased. therefore, a model of the ball screw feed system that can accurately predicted tracking error is essential to improve tracking performance. there are many factors affecting the tracking performance of the feed system, such as nonlinear friction, backlash, vibration, symmetry , , ; doi:/sym ', 'symmetry , , of elastic deformation, thermal deformation and so on. these factors have attracted much attention and extensive research, and numerous papers have been published. various friction models were researched in [-], such as stick-slip, static friction, stribeck effects, and so on. three kinds of backlash models, which are the hysteresis model [], dead zone model [] and vibration-impact model [], can be found in previous studies. another issue is the vibration; vibrations caused by the resonance of the feed drive were discussed and suppressed by using either the simplified model [] or the complex model []. some other studies have concentrated on the elastic deformation [] and thermal deformation [] of the ball screw feed systems. most studies have used lumped-parameters models to analyze the ball screw feed systems. in order to overcome the shortcomings of lumped-parameters models, the investigation of hybrid, distributed-lumped parameter modeling methods for ball screw feed drive systems was conducted in earlier studies [-]. besides, the finite element method (fem) is also a common approach to model the ball-screw system. in [], the fem model was integrated with the servo dynamics to evaluate the dynamics response of the transmission system. the studies mentioned above have made significant contributions to improving the performance of the ball screw feed systems, but the theoretical analysis of the dynamic tracking performance of ball screw is very complicated; the influencing factors are so many so that it is difficult to further improve the prediction accuracy of tracking error based on theoretical analysis. wh\""
      ]
     },
     "execution_count": 80,
     "metadata": {},
     "output_type": "execute_result"
    }
   ],
   "source": [
    "ls_clean[:5000]"
   ]
  },
  {
   "cell_type": "code",
   "execution_count": 85,
   "id": "e20a41aa-b60f-40ac-ae5a-4cbf3e5c5e64",
   "metadata": {},
   "outputs": [
    {
     "data": {
      "text/plain": [
       "\"['symmetry article hybrid multi-domain analytical data-driven modeling feed systems machine tools zaiwu mei , jianwan ding ,*, liping chen , ting pi zaidao mei school mechanical science engineering, huazhong university science technology, wuhan , china; (z.m.); (l.c.); (t.p.) department eecs, syracuse university, snow city, ny , usa; * correspondence: tel.: received: july ; accepted: september ; published: september abstract: position error-compensation control servo system computerized numerical control (cnc) machine tools relies accurate prediction dynamic tracking errors machine tool feed system. paper, order accurately predict dynamic tracking errors, hybrid modeling method proposed dynamic model ball screw feed system developed. firstly, according law conservation energy, complete multi-domain system analytical model ball screw feed system established based energy flow. order overcome uncertainties analytical model, data-driven model based back propagation (bp) neural network established trained using experimental data. finally, data-driven model coupled multi-domain analytical model hybrid model developed. model verified experiment different velocities results show prediction accuracy hybrid model reaches high levels. hybrid modeling method combines advantages analytical modeling data-driven modeling methods, significantly improve feed system's modeling accuracy. research results paper great significance improve compensation control accuracy cnc machine tools. keywords: machine tool; feed system; hybrid modeling; multi-domain; analytical model; data-driven model . introduction feed systems used position machine tool components carrying cutting tool workpiece desired location []. one important subsystems computer numerical controlled (cnc) machine tools, positioning accuracy speed determine quality productivity machine tools []. feed drive systems either powered linear motors directly, rotary motors via ball screw nut. among them, ball screw feed drive systems widely used cnc machine tools high stiffness, reliable operation ability mitigate impact inertial cutting force variations []. machining accuracy significantly depends tracking performance feed systems given trajectory. therefore, ball screw exhibit good transient steady tracking performance meet demands high productivity high precision machine tools []. improve tracking accuracy ball screw feed system, position error compensation control commonly used. tracking error estimated accurately advance, control problem feed system eased. therefore, model ball screw feed system accurately predicted tracking error essential improve tracking performance. many factors affecting tracking performance feed system, nonlinear friction, backlash, vibration, symmetry , , ; doi:/sym ', 'symmetry , , elastic deformation, thermal deformation on. factors attracted much attention extensive research, numerous papers published. various friction models researched [-], stick-slip, static friction, stribeck effects, on. three kinds backlash models, hysteresis model [], dead zone model [] vibration-impact model [], found previous studies. another issue vibration; vibrations caused resonance feed drive discussed suppressed using either simplified model [] complex model []. studies concentrated elastic deformation [] thermal deformation [] ball screw feed systems. studies used lumped-parameters models analyze ball screw feed systems. order overcome shortcomings lumped-parameters models, investigation hybrid, distributed-lumped parameter modeling methods ball screw feed drive systems conducted earlier studies [-]. besides, finite element method (fem) also common approach model ball-screw system. [], fem model integrated servo dynamics evaluate dynamics response transmission system. studies mentioned made significant contributions improving performance ball screw feed systems, theoretical analysis dynamic tracking performance ball screw complicated; influencing factors many difficult improve prediction accuracy tracking error based theoretical analysis. what's more, studies mainly concentrated modeling mechanical part, coupling effects different domains considered. feed systems consist multi-domain subsystems mechanical transmission subsystem, electrical subsystem, control subsystem, on. subsystems belong different disciplines complex coupling relationship among them. performance feed system depends performance subsystems domain, also interaction them. fact, tracking errors ball screw feed system mainly composed two parts: error caused servo control subsystem error caused mechanical subsystem. therefore, multi-domain integrated system model essential accurately predict tracking performance. research multi-domain integrated modeling ball screw feed systems rare far. integrated modeling methods feed systems machine tools proposed [-]. references, multi-domain coupling characteristics feed system taken account, modeling efficiency low hard achieve real seamless integration due use\""
      ]
     },
     "execution_count": 85,
     "metadata": {},
     "output_type": "execute_result"
    }
   ],
   "source": [
    "lower_case_1[:5000]"
   ]
  },
  {
   "cell_type": "code",
   "execution_count": null,
   "id": "d1fcd378-7d53-4eaa-bd55-25d53c142f06",
   "metadata": {},
   "outputs": [],
   "source": []
  },
  {
   "cell_type": "code",
   "execution_count": null,
   "id": "35116c88-036e-4c21-8330-39c9d491461a",
   "metadata": {},
   "outputs": [],
   "source": []
  }
 ],
 "metadata": {
  "kernelspec": {
   "display_name": "Python 3 (ipykernel)",
   "language": "python",
   "name": "python3"
  },
  "language_info": {
   "codemirror_mode": {
    "name": "ipython",
    "version": 3
   },
   "file_extension": ".py",
   "mimetype": "text/x-python",
   "name": "python",
   "nbconvert_exporter": "python",
   "pygments_lexer": "ipython3",
   "version": "3.9.7"
  }
 },
 "nbformat": 4,
 "nbformat_minor": 5
}
